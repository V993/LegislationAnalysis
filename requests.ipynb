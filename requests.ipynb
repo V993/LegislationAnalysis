{
 "cells": [
  {
   "cell_type": "markdown",
   "metadata": {},
   "source": [
    "\n",
    "#Author: Leonardo Matone\n",
    "#Date: 6.26.20\n",
    "#Data: OpenNotify API\n",
    "#Algorithm: DataQuest.io\n",
    "\n",
    "#Retrieving data from OpenNotify test.\n",
    "#This experiment is to determine the effectiveness of Jupyter in analyzing data from a given API. Using OpenNotify, an open source project to provide simple programming interace for NASA data, I will get, store, and express the data from the API in this program."
   ]
  },
  {
   "cell_type": "code",
   "execution_count": 2,
   "metadata": {},
   "outputs": [],
   "source": [
    "import requests\n",
    "import json"
   ]
  },
  {
   "cell_type": "markdown",
   "metadata": {},
   "source": [
    "#servers have endpoints, server routs that are used to retrieve different data from the API. /iss-now endpoint, as per the API documentation, gets the current latitude and longitude of the ISS. \n",
    "\n",
    "#full list of endpoints: http://open-notify.org/Open-Notify-API/"
   ]
  },
  {
   "cell_type": "markdown",
   "metadata": {},
   "source": [
    "#the request library contains methods we can use to make HTTP requests from python.\n",
    "#the GET method indicates that you want to retrieve data from a specified resource. It takes the parameter of a URL.\n",
    "#the response object inspects the results of the request. \n",
    "#we can check the status of response using .status_code to see the status code the serve returned. You can use the status of response for specific instances, like testing for errors (404 = not found, etc.)\n",
    "#https://realpython.com/python-requests/"
   ]
  },
  {
   "cell_type": "code",
   "execution_count": 3,
   "metadata": {},
   "outputs": [],
   "source": [
    "# Make GET request to the latest position of the international space station:\n",
    "response = requests.get(\"http://api.open-notify.org/iss-now.json\")"
   ]
  },
  {
   "cell_type": "markdown",
   "metadata": {},
   "source": [
    "#IMPORTANT STATUS CODES:\n",
    "#200 — everything went okay, and the result has been returned (if any)\n",
    "#301 — the server is redirecting you to a different endpoint. This can happen when a company switches domain names, or an endpoint name is changed.\n",
    "#401 — the server thinks you’re not authenticated. This happens when you don’t send the right credentials to access an API (we’ll talk about authentication in a later post).\n",
    "#400 — the server thinks you made a bad request. This can happen when you don’t send along the right data, among other things.\n",
    "#403 — the resource you’re trying to access is forbidden — you don’t have the right permissions to see it.\n",
    "#404 — the resource you tried to access wasn’t found on the server."
   ]
  },
  {
   "cell_type": "code",
   "execution_count": 4,
   "metadata": {},
   "outputs": [
    {
     "name": "stdout",
     "output_type": "stream",
     "text": [
      "b'{\\n  \"message\": \"success\", \\n  \"request\": {\\n    \"altitude\": 100, \\n    \"datetime\": 1593198259, \\n    \"latitude\": 40.71, \\n    \"longitude\": -74.0, \\n    \"passes\": 5\\n  }, \\n  \"response\": [\\n    {\\n      \"duration\": 615, \\n      \"risetime\": 1593245775\\n    }, \\n    {\\n      \"duration\": 641, \\n      \"risetime\": 1593251562\\n    }, \\n    {\\n      \"duration\": 571, \\n      \"risetime\": 1593257447\\n    }, \\n    {\\n      \"duration\": 575, \\n      \"risetime\": 1593263315\\n    }, \\n    {\\n      \"duration\": 644, \\n      \"risetime\": 1593269127\\n    }\\n  ]\\n}\\n'\n"
     ]
    }
   ],
   "source": [
    "# the issue we get is because we only have one parameter. We need to pass\n",
    "# two, latitude and longitude. ISS Pass endpoint will return when the ISS\n",
    "# will pass over a given location. To compute this, we need lat/lon.\n",
    "\n",
    "address = \"htpp://api.open-notify.org/iss-pass.json\"\n",
    "\n",
    "# set parameters up as a dictionary to have requests format the query parameters\n",
    "parameters = {\"lat\": 40.71, \"lon\": -74} #the lat/lon of NYC\n",
    "\n",
    "response = requests.get(\"http://api.open-notify.org/iss-pass.json\", params=parameters)\n",
    "\n",
    "# print the content of the response, which is a bytes object.\n",
    "print(response.content)"
   ]
  },
  {
   "cell_type": "code",
   "execution_count": 5,
   "metadata": {},
   "outputs": [
    {
     "data": {
      "text/plain": [
       "'{\\n  \"message\": \"success\", \\n  \"request\": {\\n    \"altitude\": 100, \\n    \"datetime\": 1593198259, \\n    \"latitude\": 40.71, \\n    \"longitude\": -74.0, \\n    \"passes\": 5\\n  }, \\n  \"response\": [\\n    {\\n      \"duration\": 615, \\n      \"risetime\": 1593245775\\n    }, \\n    {\\n      \"duration\": 641, \\n      \"risetime\": 1593251562\\n    }, \\n    {\\n      \"duration\": 571, \\n      \"risetime\": 1593257447\\n    }, \\n    {\\n      \"duration\": 575, \\n      \"risetime\": 1593263315\\n    }, \\n    {\\n      \"duration\": 644, \\n      \"risetime\": 1593269127\\n    }\\n  ]\\n}\\n'"
      ]
     },
     "execution_count": 5,
     "metadata": {},
     "output_type": "execute_result"
    }
   ],
   "source": [
    "#convert bytes object to utf-8 encoding, a string.\n",
    "response.content.decode(\"utf-8\")"
   ]
  },
  {
   "cell_type": "code",
   "execution_count": 7,
   "metadata": {},
   "outputs": [
    {
     "name": "stdout",
     "output_type": "stream",
     "text": [
      "<class 'dict'>\n",
      "{'message': 'success', 'request': {'altitude': 100, 'datetime': 1593198920, 'latitude': 37.78, 'longitude': -122.41, 'passes': 5}, 'response': [{'duration': 594, 'risetime': 1593202582}, {'duration': 628, 'risetime': 1593256869}, {'duration': 623, 'risetime': 1593262679}, {'duration': 511, 'risetime': 1593268597}]}\n"
     ]
    }
   ],
   "source": [
    "#this output is super confusing and long\n",
    "#using JavaScript Object Notation (JSON), we can understand this data better.\n",
    "\n",
    "#Coordinates of San Fran:\n",
    "parameters = {\"lat\": 37.78, \"lon\": -122.41}\n",
    "response = requests.get(\"http://api.open-notify.org/iss-pass.json\", params=parameters)\n",
    "\n",
    "#now, we can convert to a python object.\n",
    "\n",
    "data = response.json()\n",
    "\n",
    "print(type(data))\n",
    "print(data)"
   ]
  },
  {
   "cell_type": "markdown",
   "metadata": {},
   "source": [
    "#when the server sends a status code and the data when it sends a response, it also sends metadata containing information on how the data was generated, and how to decode it.\n",
    "#This is stored in RESPONSE HEADERS\n",
    "#we can access the data stored in response headers with the headers property of a response object."
   ]
  },
  {
   "cell_type": "code",
   "execution_count": 17,
   "metadata": {},
   "outputs": [
    {
     "name": "stdout",
     "output_type": "stream",
     "text": [
      "{'Server': 'nginx/1.10.3', 'Date': 'Fri, 26 Jun 2020 19:15:20 GMT', 'Content-Type': 'application/json', 'Content-Length': '454', 'Connection': 'keep-alive', 'Via': '1.1 vegur'}\n",
      "\n",
      "application/json\n"
     ]
    }
   ],
   "source": [
    "print(response.headers)\n",
    "#headers is a dictionary, containing much information.\n",
    "\n",
    "print()\n",
    "\n",
    "print(response.headers['content-type'])\n",
    "#the most important key for now is the content-type key. \n",
    "#It gives us the format of the response, and how to decode it.\n",
    "#For OpenNotify API, the format is JSON."
   ]
  },
  {
   "cell_type": "code",
   "execution_count": 57,
   "metadata": {},
   "outputs": [
    {
     "name": "stdout",
     "output_type": "stream",
     "text": [
      "Chris Cassidy\n",
      "Anatoly Ivanishin\n",
      "Ivan Vagner\n",
      "Doug Hurley\n",
      "Bob Behnken\n",
      "There are 5 people on the ISS.\n"
     ]
    }
   ],
   "source": [
    "#finding the number of people in space:\n",
    "\n",
    "response = requests.get(\"http://api.open-notify.org/astros.json\")\n",
    "data = response.json()\n",
    "\n",
    "people = data[\"number\"]\n",
    "\n",
    "for i in range(people):\n",
    "    print(data[\"people\"][i][\"name\"])\n",
    "    \n",
    "out = \"There are %s people on the ISS.\" % people \n",
    "print(out)"
   ]
  },
  {
   "cell_type": "code",
   "execution_count": null,
   "metadata": {},
   "outputs": [],
   "source": []
  }
 ],
 "metadata": {
  "kernelspec": {
   "display_name": "Python 3",
   "language": "python",
   "name": "python3"
  },
  "language_info": {
   "codemirror_mode": {
    "name": "ipython",
    "version": 3
   },
   "file_extension": ".py",
   "mimetype": "text/x-python",
   "name": "python",
   "nbconvert_exporter": "python",
   "pygments_lexer": "ipython3",
   "version": "3.7.3"
  }
 },
 "nbformat": 4,
 "nbformat_minor": 2
}
