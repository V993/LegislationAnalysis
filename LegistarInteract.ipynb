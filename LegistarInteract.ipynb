{
 "cells": [
  {
   "cell_type": "code",
   "execution_count": 6,
   "metadata": {},
   "outputs": [],
   "source": [
    "import json\n",
    "import requests \n",
    "import datetime\n",
    "import pandas as pd\n",
    "import matplotlib.pyplot as plt\n",
    "import seaborn as sns\n",
    "\n",
    "sns.set(style = \"darkgrid\")"
   ]
  },
  {
   "cell_type": "code",
   "execution_count": 7,
   "metadata": {
    "tags": []
   },
   "outputs": [
    {
     "output_type": "stream",
     "name": "stdout",
     "text": "ActionId\nActionGuid\nActionLastModifiedUtc\nActionRowVersion\nActionName\nActionActiveFlag\nActionUsedFlag\n"
    }
   ],
   "source": [
    "def responseStatus(response):\n",
    "    if response:\n",
    "        return True\n",
    "    else: \n",
    "        return False\n",
    "\n",
    "#@param query, the dataset the user wants\n",
    "#@param dfBool, whether or not the user wants a dataframe, or just JSON return.\n",
    "#@return data from response, and if specified save data in JSON form .txt\n",
    "def responseOnQuery(query, dfBool):\n",
    "    address = \"https://webapi.legistar.com/v1/nyc/{QUERY}?Token=Uvxb0j9syjm3aI8h46DhQvnX5skN4aSUL0x_Ee3ty9M.ew0KICAiVmVyc2lvbiI6IDEsDQogICJOYW1lIjogIk5ZQyByZWFkIHRva2VuIDIwMTcxMDI2IiwNCiAgIkRhdGUiOiAiMjAxNy0xMC0yNlQxNjoyNjo1Mi42ODM0MDYtMDU6MDAiLA0KICAiV3JpdGUiOiBmYWxzZQ0KfQ\"\n",
    "    address = address.replace(\"{QUERY}\", query)\n",
    "    #print(address)\n",
    "    \n",
    "    responseQuery = requests.get(address)\n",
    "    #print(responseQuery.status_code)\n",
    "    valid = responseStatus(responseQuery)\n",
    "    if valid:\n",
    "        data = responseQuery.json()\n",
    "        if not dfBool:\n",
    "            return data\n",
    "        else:\n",
    "            #print(\"JSON string now in .txt file labeled %s.txt for further use.\" % query)\n",
    "            with open(query+\".txt\", 'w') as outfile:\n",
    "                json.dump(data, outfile)\n",
    "            return data\n",
    "    else:\n",
    "        print(\"Invalid query. Not accessible.\")\n",
    "        \n",
    "\n",
    "def pandasJSON(query):\n",
    "    df = pd.read_json(query+\".txt\")\n",
    "    #print(\"Dataframe established\")\n",
    "    return df\n",
    "\n",
    "\n",
    "def getHeaders(query):\n",
    "    responseOnQuery(query, True)\n",
    "    df = pandasJSON(query)\n",
    "    return list(df.columns)\n",
    "\n",
    "query = input(\"Enter your query: \")\n",
    "listHeaders = getHeaders(query)\n",
    "\n",
    "for header in listHeaders:\n",
    "    print(header)\n"
   ]
  },
  {
   "cell_type": "code",
   "execution_count": null,
   "metadata": {},
   "outputs": [],
   "source": []
  }
 ],
 "metadata": {
  "kernelspec": {
   "display_name": "Python 3",
   "language": "python",
   "name": "python3"
  },
  "language_info": {
   "codemirror_mode": {
    "name": "ipython",
    "version": 3
   },
   "file_extension": ".py",
   "mimetype": "text/x-python",
   "name": "python",
   "nbconvert_exporter": "python",
   "pygments_lexer": "ipython3",
   "version": "3.8.1-final"
  }
 },
 "nbformat": 4,
 "nbformat_minor": 4
}