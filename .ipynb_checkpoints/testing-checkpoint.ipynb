{
 "cells": [
  {
   "cell_type": "code",
   "execution_count": null,
   "metadata": {},
   "outputs": [],
   "source": [
    "print(\"Hello, World!\")"
   ]
  },
  {
   "cell_type": "code",
   "execution_count": null,
   "metadata": {},
   "outputs": [],
   "source": [
    "import time\n",
    "time.sleep(3)"
   ]
  },
  {
   "cell_type": "code",
   "execution_count": null,
   "metadata": {},
   "outputs": [],
   "source": [
    "def say_hello(recipient):\n",
    "    return 'Hello, {}'.format(recipient)\n",
    "say_hello('Tim')"
   ]
  },
  {
   "cell_type": "code",
   "execution_count": null,
   "metadata": {},
   "outputs": [],
   "source": [
    "import numpy as np\n",
    "\n",
    "def square(x):\n",
    "    return x*x"
   ]
  },
  {
   "cell_type": "code",
   "execution_count": null,
   "metadata": {},
   "outputs": [],
   "source": [
    "x = np.random.randint(1,10)\n",
    "y = square(x)\n",
    "print('%d squared is %d' % (x, y))"
   ]
  },
  {
   "cell_type": "code",
   "execution_count": null,
   "metadata": {},
   "outputs": [],
   "source": [
    "print('Is %d squared %d?' % (x, y))"
   ]
  },
  {
   "cell_type": "code",
   "execution_count": null,
   "metadata": {},
   "outputs": [],
   "source": [
    "y = 10"
   ]
  },
  {
   "cell_type": "markdown",
   "metadata": {},
   "source": [
    "\n",
    "## keyboard shortcuts:\n",
    "\n",
    "Toggle between edit and command mode with Esc and Enter, respectively.\n",
    "\n",
    "Once in command mode:\n",
    "    Scroll up and down your cells with your Up and Down keys.\n",
    "    \n",
    "    Press A or B to insert a new cell above or below the active cell.\n",
    "    \n",
    "    M will transform the active cell to a Markdown cell.\n",
    "    \n",
    "    Y will set the active cell to a code cell.\n",
    "    \n",
    "    D + D (D twice) will delete the active cell.\n",
    "    \n",
    "    Z will undo cell deletion.\n",
    "    \n",
    "    Hold Shift and press Up or Down to select multiple cells at once.\n",
    "        With multiple cells selected, Shift + M will merge your selection.\n",
    "        \n",
    "Ctrl + Shift + -, in edit mode, will split the active cell at the cursor.\n",
    "You can also click and Shift + Click in the margin to the left of your cells to select them.\n",
    "\n",
    "# you can attach images this is sick:\n",
    "\n",
    "\n",
    "![Franz%20Marc%20-%20The%20Fox%20-%20Oil%20Painting.jpg](attachment:Franz%20Marc%20-%20The%20Fox%20-%20Oil%20Painting.jpg)"
   ]
  }
 ],
 "metadata": {
  "kernelspec": {
   "display_name": "Python 3",
   "language": "python",
   "name": "python3"
  },
  "language_info": {
   "codemirror_mode": {
    "name": "ipython",
    "version": 3
   },
   "file_extension": ".py",
   "mimetype": "text/x-python",
   "name": "python",
   "nbconvert_exporter": "python",
   "pygments_lexer": "ipython3",
   "version": "3.7.3"
  }
 },
 "nbformat": 4,
 "nbformat_minor": 2
}
